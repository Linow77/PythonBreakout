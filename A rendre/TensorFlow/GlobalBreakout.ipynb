{
  "nbformat": 4,
  "nbformat_minor": 0,
  "metadata": {
    "colab": {
      "name": "GlobalBreakout.ipynb",
      "provenance": [],
      "collapsed_sections": []
    },
    "kernelspec": {
      "name": "python3",
      "display_name": "Python 3"
    },
    "language_info": {
      "name": "python"
    }
  },
  "cells": [
    {
      "cell_type": "markdown",
      "source": [
        "# Création du jeu"
      ],
      "metadata": {
        "id": "6BTM8r30OJjf"
      }
    },
    {
      "cell_type": "markdown",
      "source": [
        "## Installation des bibliothèques"
      ],
      "metadata": {
        "id": "XDXrn-D6MN1L"
      }
    },
    {
      "cell_type": "code",
      "execution_count": 60,
      "metadata": {
        "colab": {
          "base_uri": "https://localhost:8080/"
        },
        "id": "Kx_eQ4FpMGfV",
        "outputId": "31e0cd23-20ef-4b44-f714-dfab294482c7"
      },
      "outputs": [
        {
          "output_type": "stream",
          "name": "stdout",
          "text": [
            "Hit:1 https://cloud.r-project.org/bin/linux/ubuntu bionic-cran40/ InRelease\n",
            "Ign:2 https://developer.download.nvidia.com/compute/cuda/repos/ubuntu1804/x86_64  InRelease\n",
            "Hit:3 http://security.ubuntu.com/ubuntu bionic-security InRelease\n",
            "Ign:4 https://developer.download.nvidia.com/compute/machine-learning/repos/ubuntu1804/x86_64  InRelease\n",
            "Hit:5 https://developer.download.nvidia.com/compute/cuda/repos/ubuntu1804/x86_64  Release\n",
            "Hit:6 https://developer.download.nvidia.com/compute/machine-learning/repos/ubuntu1804/x86_64  Release\n",
            "Hit:7 http://ppa.launchpad.net/c2d4u.team/c2d4u4.0+/ubuntu bionic InRelease\n",
            "Hit:8 http://archive.ubuntu.com/ubuntu bionic InRelease\n",
            "Hit:11 http://archive.ubuntu.com/ubuntu bionic-updates InRelease\n",
            "Hit:12 http://ppa.launchpad.net/cran/libgit2/ubuntu bionic InRelease\n",
            "Hit:13 http://archive.ubuntu.com/ubuntu bionic-backports InRelease\n",
            "Hit:14 http://ppa.launchpad.net/deadsnakes/ppa/ubuntu bionic InRelease\n",
            "Hit:15 http://ppa.launchpad.net/graphics-drivers/ppa/ubuntu bionic InRelease\n",
            "Reading package lists... Done\n",
            "Requirement already satisfied: pygame in /usr/local/lib/python3.7/dist-packages (2.1.2)\n",
            "Requirement already satisfied: tensorflow in /usr/local/lib/python3.7/dist-packages (2.7.0)\n",
            "Requirement already satisfied: h5py>=2.9.0 in /usr/local/lib/python3.7/dist-packages (from tensorflow) (3.1.0)\n",
            "Requirement already satisfied: numpy>=1.14.5 in /usr/local/lib/python3.7/dist-packages (from tensorflow) (1.19.5)\n",
            "Requirement already satisfied: astunparse>=1.6.0 in /usr/local/lib/python3.7/dist-packages (from tensorflow) (1.6.3)\n",
            "Requirement already satisfied: flatbuffers<3.0,>=1.12 in /usr/local/lib/python3.7/dist-packages (from tensorflow) (2.0)\n",
            "Requirement already satisfied: tensorboard~=2.6 in /usr/local/lib/python3.7/dist-packages (from tensorflow) (2.7.0)\n",
            "Requirement already satisfied: grpcio<2.0,>=1.24.3 in /usr/local/lib/python3.7/dist-packages (from tensorflow) (1.43.0)\n",
            "Requirement already satisfied: six>=1.12.0 in /usr/local/lib/python3.7/dist-packages (from tensorflow) (1.15.0)\n",
            "Requirement already satisfied: keras<2.8,>=2.7.0rc0 in /usr/local/lib/python3.7/dist-packages (from tensorflow) (2.7.0)\n",
            "Requirement already satisfied: tensorflow-io-gcs-filesystem>=0.21.0 in /usr/local/lib/python3.7/dist-packages (from tensorflow) (0.24.0)\n",
            "Requirement already satisfied: typing-extensions>=3.6.6 in /usr/local/lib/python3.7/dist-packages (from tensorflow) (3.10.0.2)\n",
            "Requirement already satisfied: protobuf>=3.9.2 in /usr/local/lib/python3.7/dist-packages (from tensorflow) (3.17.3)\n",
            "Requirement already satisfied: opt-einsum>=2.3.2 in /usr/local/lib/python3.7/dist-packages (from tensorflow) (3.3.0)\n",
            "Requirement already satisfied: google-pasta>=0.1.1 in /usr/local/lib/python3.7/dist-packages (from tensorflow) (0.2.0)\n",
            "Requirement already satisfied: keras-preprocessing>=1.1.1 in /usr/local/lib/python3.7/dist-packages (from tensorflow) (1.1.2)\n",
            "Requirement already satisfied: wrapt>=1.11.0 in /usr/local/lib/python3.7/dist-packages (from tensorflow) (1.13.3)\n",
            "Requirement already satisfied: termcolor>=1.1.0 in /usr/local/lib/python3.7/dist-packages (from tensorflow) (1.1.0)\n",
            "Requirement already satisfied: tensorflow-estimator<2.8,~=2.7.0rc0 in /usr/local/lib/python3.7/dist-packages (from tensorflow) (2.7.0)\n",
            "Requirement already satisfied: absl-py>=0.4.0 in /usr/local/lib/python3.7/dist-packages (from tensorflow) (1.0.0)\n",
            "Requirement already satisfied: wheel<1.0,>=0.32.0 in /usr/local/lib/python3.7/dist-packages (from tensorflow) (0.37.1)\n",
            "Requirement already satisfied: gast<0.5.0,>=0.2.1 in /usr/local/lib/python3.7/dist-packages (from tensorflow) (0.4.0)\n",
            "Requirement already satisfied: libclang>=9.0.1 in /usr/local/lib/python3.7/dist-packages (from tensorflow) (13.0.0)\n",
            "Requirement already satisfied: cached-property in /usr/local/lib/python3.7/dist-packages (from h5py>=2.9.0->tensorflow) (1.5.2)\n",
            "Requirement already satisfied: tensorboard-plugin-wit>=1.6.0 in /usr/local/lib/python3.7/dist-packages (from tensorboard~=2.6->tensorflow) (1.8.1)\n",
            "Requirement already satisfied: setuptools>=41.0.0 in /usr/local/lib/python3.7/dist-packages (from tensorboard~=2.6->tensorflow) (57.4.0)\n",
            "Requirement already satisfied: markdown>=2.6.8 in /usr/local/lib/python3.7/dist-packages (from tensorboard~=2.6->tensorflow) (3.3.6)\n",
            "Requirement already satisfied: google-auth<3,>=1.6.3 in /usr/local/lib/python3.7/dist-packages (from tensorboard~=2.6->tensorflow) (1.35.0)\n",
            "Requirement already satisfied: requests<3,>=2.21.0 in /usr/local/lib/python3.7/dist-packages (from tensorboard~=2.6->tensorflow) (2.23.0)\n",
            "Requirement already satisfied: tensorboard-data-server<0.7.0,>=0.6.0 in /usr/local/lib/python3.7/dist-packages (from tensorboard~=2.6->tensorflow) (0.6.1)\n",
            "Requirement already satisfied: werkzeug>=0.11.15 in /usr/local/lib/python3.7/dist-packages (from tensorboard~=2.6->tensorflow) (1.0.1)\n",
            "Requirement already satisfied: google-auth-oauthlib<0.5,>=0.4.1 in /usr/local/lib/python3.7/dist-packages (from tensorboard~=2.6->tensorflow) (0.4.6)\n",
            "Requirement already satisfied: cachetools<5.0,>=2.0.0 in /usr/local/lib/python3.7/dist-packages (from google-auth<3,>=1.6.3->tensorboard~=2.6->tensorflow) (4.2.4)\n",
            "Requirement already satisfied: rsa<5,>=3.1.4 in /usr/local/lib/python3.7/dist-packages (from google-auth<3,>=1.6.3->tensorboard~=2.6->tensorflow) (4.8)\n",
            "Requirement already satisfied: pyasn1-modules>=0.2.1 in /usr/local/lib/python3.7/dist-packages (from google-auth<3,>=1.6.3->tensorboard~=2.6->tensorflow) (0.2.8)\n",
            "Requirement already satisfied: requests-oauthlib>=0.7.0 in /usr/local/lib/python3.7/dist-packages (from google-auth-oauthlib<0.5,>=0.4.1->tensorboard~=2.6->tensorflow) (1.3.1)\n",
            "Requirement already satisfied: importlib-metadata>=4.4 in /usr/local/lib/python3.7/dist-packages (from markdown>=2.6.8->tensorboard~=2.6->tensorflow) (4.10.1)\n",
            "Requirement already satisfied: zipp>=0.5 in /usr/local/lib/python3.7/dist-packages (from importlib-metadata>=4.4->markdown>=2.6.8->tensorboard~=2.6->tensorflow) (3.7.0)\n",
            "Requirement already satisfied: pyasn1<0.5.0,>=0.4.6 in /usr/local/lib/python3.7/dist-packages (from pyasn1-modules>=0.2.1->google-auth<3,>=1.6.3->tensorboard~=2.6->tensorflow) (0.4.8)\n",
            "Requirement already satisfied: chardet<4,>=3.0.2 in /usr/local/lib/python3.7/dist-packages (from requests<3,>=2.21.0->tensorboard~=2.6->tensorflow) (3.0.4)\n",
            "Requirement already satisfied: idna<3,>=2.5 in /usr/local/lib/python3.7/dist-packages (from requests<3,>=2.21.0->tensorboard~=2.6->tensorflow) (2.10)\n",
            "Requirement already satisfied: certifi>=2017.4.17 in /usr/local/lib/python3.7/dist-packages (from requests<3,>=2.21.0->tensorboard~=2.6->tensorflow) (2021.10.8)\n",
            "Requirement already satisfied: urllib3!=1.25.0,!=1.25.1,<1.26,>=1.21.1 in /usr/local/lib/python3.7/dist-packages (from requests<3,>=2.21.0->tensorboard~=2.6->tensorflow) (1.24.3)\n",
            "Requirement already satisfied: oauthlib>=3.0.0 in /usr/local/lib/python3.7/dist-packages (from requests-oauthlib>=0.7.0->google-auth-oauthlib<0.5,>=0.4.1->tensorboard~=2.6->tensorflow) (3.2.0)\n",
            "Requirement already satisfied: tf-agents[reverb] in /usr/local/lib/python3.7/dist-packages (0.11.0)\n",
            "Requirement already satisfied: absl-py>=0.6.1 in /usr/local/lib/python3.7/dist-packages (from tf-agents[reverb]) (1.0.0)\n",
            "Requirement already satisfied: pillow in /usr/local/lib/python3.7/dist-packages (from tf-agents[reverb]) (7.1.2)\n",
            "Requirement already satisfied: typing-extensions>=3.7.4.3 in /usr/local/lib/python3.7/dist-packages (from tf-agents[reverb]) (3.10.0.2)\n",
            "Requirement already satisfied: six>=1.10.0 in /usr/local/lib/python3.7/dist-packages (from tf-agents[reverb]) (1.15.0)\n",
            "Requirement already satisfied: gin-config>=0.4.0 in /usr/local/lib/python3.7/dist-packages (from tf-agents[reverb]) (0.5.0)\n",
            "Requirement already satisfied: numpy>=1.13.3 in /usr/local/lib/python3.7/dist-packages (from tf-agents[reverb]) (1.19.5)\n",
            "Requirement already satisfied: gym>=0.17.0 in /usr/local/lib/python3.7/dist-packages (from tf-agents[reverb]) (0.17.3)\n",
            "Requirement already satisfied: cloudpickle>=1.3 in /usr/local/lib/python3.7/dist-packages (from tf-agents[reverb]) (1.3.0)\n",
            "Requirement already satisfied: protobuf>=3.11.3 in /usr/local/lib/python3.7/dist-packages (from tf-agents[reverb]) (3.17.3)\n",
            "Requirement already satisfied: wrapt>=1.11.1 in /usr/local/lib/python3.7/dist-packages (from tf-agents[reverb]) (1.13.3)\n",
            "Requirement already satisfied: tensorflow-probability>=0.14.1 in /usr/local/lib/python3.7/dist-packages (from tf-agents[reverb]) (0.15.0)\n",
            "Requirement already satisfied: dm-reverb~=0.6.0 in /usr/local/lib/python3.7/dist-packages (from tf-agents[reverb]) (0.6.1)\n",
            "Requirement already satisfied: tensorflow~=2.7.0 in /usr/local/lib/python3.7/dist-packages (from tf-agents[reverb]) (2.7.0)\n",
            "Requirement already satisfied: dm-tree in /usr/local/lib/python3.7/dist-packages (from dm-reverb~=0.6.0->tf-agents[reverb]) (0.1.6)\n",
            "Requirement already satisfied: portpicker in /usr/local/lib/python3.7/dist-packages (from dm-reverb~=0.6.0->tf-agents[reverb]) (1.3.9)\n",
            "Requirement already satisfied: scipy in /usr/local/lib/python3.7/dist-packages (from gym>=0.17.0->tf-agents[reverb]) (1.4.1)\n",
            "Requirement already satisfied: pyglet<=1.5.0,>=1.4.0 in /usr/local/lib/python3.7/dist-packages (from gym>=0.17.0->tf-agents[reverb]) (1.5.0)\n",
            "Requirement already satisfied: future in /usr/local/lib/python3.7/dist-packages (from pyglet<=1.5.0,>=1.4.0->gym>=0.17.0->tf-agents[reverb]) (0.16.0)\n",
            "Requirement already satisfied: opt-einsum>=2.3.2 in /usr/local/lib/python3.7/dist-packages (from tensorflow~=2.7.0->tf-agents[reverb]) (3.3.0)\n",
            "Requirement already satisfied: grpcio<2.0,>=1.24.3 in /usr/local/lib/python3.7/dist-packages (from tensorflow~=2.7.0->tf-agents[reverb]) (1.43.0)\n",
            "Requirement already satisfied: astunparse>=1.6.0 in /usr/local/lib/python3.7/dist-packages (from tensorflow~=2.7.0->tf-agents[reverb]) (1.6.3)\n",
            "Requirement already satisfied: keras<2.8,>=2.7.0rc0 in /usr/local/lib/python3.7/dist-packages (from tensorflow~=2.7.0->tf-agents[reverb]) (2.7.0)\n",
            "Requirement already satisfied: libclang>=9.0.1 in /usr/local/lib/python3.7/dist-packages (from tensorflow~=2.7.0->tf-agents[reverb]) (13.0.0)\n",
            "Requirement already satisfied: termcolor>=1.1.0 in /usr/local/lib/python3.7/dist-packages (from tensorflow~=2.7.0->tf-agents[reverb]) (1.1.0)\n",
            "Requirement already satisfied: tensorboard~=2.6 in /usr/local/lib/python3.7/dist-packages (from tensorflow~=2.7.0->tf-agents[reverb]) (2.7.0)\n",
            "Requirement already satisfied: google-pasta>=0.1.1 in /usr/local/lib/python3.7/dist-packages (from tensorflow~=2.7.0->tf-agents[reverb]) (0.2.0)\n",
            "Requirement already satisfied: h5py>=2.9.0 in /usr/local/lib/python3.7/dist-packages (from tensorflow~=2.7.0->tf-agents[reverb]) (3.1.0)\n",
            "Requirement already satisfied: keras-preprocessing>=1.1.1 in /usr/local/lib/python3.7/dist-packages (from tensorflow~=2.7.0->tf-agents[reverb]) (1.1.2)\n",
            "Requirement already satisfied: wheel<1.0,>=0.32.0 in /usr/local/lib/python3.7/dist-packages (from tensorflow~=2.7.0->tf-agents[reverb]) (0.37.1)\n",
            "Requirement already satisfied: tensorflow-estimator<2.8,~=2.7.0rc0 in /usr/local/lib/python3.7/dist-packages (from tensorflow~=2.7.0->tf-agents[reverb]) (2.7.0)\n",
            "Requirement already satisfied: gast<0.5.0,>=0.2.1 in /usr/local/lib/python3.7/dist-packages (from tensorflow~=2.7.0->tf-agents[reverb]) (0.4.0)\n",
            "Requirement already satisfied: flatbuffers<3.0,>=1.12 in /usr/local/lib/python3.7/dist-packages (from tensorflow~=2.7.0->tf-agents[reverb]) (2.0)\n",
            "Requirement already satisfied: tensorflow-io-gcs-filesystem>=0.21.0 in /usr/local/lib/python3.7/dist-packages (from tensorflow~=2.7.0->tf-agents[reverb]) (0.24.0)\n",
            "Requirement already satisfied: cached-property in /usr/local/lib/python3.7/dist-packages (from h5py>=2.9.0->tensorflow~=2.7.0->tf-agents[reverb]) (1.5.2)\n",
            "Requirement already satisfied: google-auth-oauthlib<0.5,>=0.4.1 in /usr/local/lib/python3.7/dist-packages (from tensorboard~=2.6->tensorflow~=2.7.0->tf-agents[reverb]) (0.4.6)\n",
            "Requirement already satisfied: google-auth<3,>=1.6.3 in /usr/local/lib/python3.7/dist-packages (from tensorboard~=2.6->tensorflow~=2.7.0->tf-agents[reverb]) (1.35.0)\n",
            "Requirement already satisfied: markdown>=2.6.8 in /usr/local/lib/python3.7/dist-packages (from tensorboard~=2.6->tensorflow~=2.7.0->tf-agents[reverb]) (3.3.6)\n",
            "Requirement already satisfied: setuptools>=41.0.0 in /usr/local/lib/python3.7/dist-packages (from tensorboard~=2.6->tensorflow~=2.7.0->tf-agents[reverb]) (57.4.0)\n",
            "Requirement already satisfied: requests<3,>=2.21.0 in /usr/local/lib/python3.7/dist-packages (from tensorboard~=2.6->tensorflow~=2.7.0->tf-agents[reverb]) (2.23.0)\n",
            "Requirement already satisfied: werkzeug>=0.11.15 in /usr/local/lib/python3.7/dist-packages (from tensorboard~=2.6->tensorflow~=2.7.0->tf-agents[reverb]) (1.0.1)\n",
            "Requirement already satisfied: tensorboard-plugin-wit>=1.6.0 in /usr/local/lib/python3.7/dist-packages (from tensorboard~=2.6->tensorflow~=2.7.0->tf-agents[reverb]) (1.8.1)\n",
            "Requirement already satisfied: tensorboard-data-server<0.7.0,>=0.6.0 in /usr/local/lib/python3.7/dist-packages (from tensorboard~=2.6->tensorflow~=2.7.0->tf-agents[reverb]) (0.6.1)\n",
            "Requirement already satisfied: cachetools<5.0,>=2.0.0 in /usr/local/lib/python3.7/dist-packages (from google-auth<3,>=1.6.3->tensorboard~=2.6->tensorflow~=2.7.0->tf-agents[reverb]) (4.2.4)\n",
            "Requirement already satisfied: rsa<5,>=3.1.4 in /usr/local/lib/python3.7/dist-packages (from google-auth<3,>=1.6.3->tensorboard~=2.6->tensorflow~=2.7.0->tf-agents[reverb]) (4.8)\n",
            "Requirement already satisfied: pyasn1-modules>=0.2.1 in /usr/local/lib/python3.7/dist-packages (from google-auth<3,>=1.6.3->tensorboard~=2.6->tensorflow~=2.7.0->tf-agents[reverb]) (0.2.8)\n",
            "Requirement already satisfied: requests-oauthlib>=0.7.0 in /usr/local/lib/python3.7/dist-packages (from google-auth-oauthlib<0.5,>=0.4.1->tensorboard~=2.6->tensorflow~=2.7.0->tf-agents[reverb]) (1.3.1)\n",
            "Requirement already satisfied: importlib-metadata>=4.4 in /usr/local/lib/python3.7/dist-packages (from markdown>=2.6.8->tensorboard~=2.6->tensorflow~=2.7.0->tf-agents[reverb]) (4.10.1)\n",
            "Requirement already satisfied: zipp>=0.5 in /usr/local/lib/python3.7/dist-packages (from importlib-metadata>=4.4->markdown>=2.6.8->tensorboard~=2.6->tensorflow~=2.7.0->tf-agents[reverb]) (3.7.0)\n",
            "Requirement already satisfied: pyasn1<0.5.0,>=0.4.6 in /usr/local/lib/python3.7/dist-packages (from pyasn1-modules>=0.2.1->google-auth<3,>=1.6.3->tensorboard~=2.6->tensorflow~=2.7.0->tf-agents[reverb]) (0.4.8)\n",
            "Requirement already satisfied: chardet<4,>=3.0.2 in /usr/local/lib/python3.7/dist-packages (from requests<3,>=2.21.0->tensorboard~=2.6->tensorflow~=2.7.0->tf-agents[reverb]) (3.0.4)\n",
            "Requirement already satisfied: certifi>=2017.4.17 in /usr/local/lib/python3.7/dist-packages (from requests<3,>=2.21.0->tensorboard~=2.6->tensorflow~=2.7.0->tf-agents[reverb]) (2021.10.8)\n",
            "Requirement already satisfied: idna<3,>=2.5 in /usr/local/lib/python3.7/dist-packages (from requests<3,>=2.21.0->tensorboard~=2.6->tensorflow~=2.7.0->tf-agents[reverb]) (2.10)\n",
            "Requirement already satisfied: urllib3!=1.25.0,!=1.25.1,<1.26,>=1.21.1 in /usr/local/lib/python3.7/dist-packages (from requests<3,>=2.21.0->tensorboard~=2.6->tensorflow~=2.7.0->tf-agents[reverb]) (1.24.3)\n",
            "Requirement already satisfied: oauthlib>=3.0.0 in /usr/local/lib/python3.7/dist-packages (from requests-oauthlib>=0.7.0->google-auth-oauthlib<0.5,>=0.4.1->tensorboard~=2.6->tensorflow~=2.7.0->tf-agents[reverb]) (3.2.0)\n",
            "Requirement already satisfied: decorator in /usr/local/lib/python3.7/dist-packages (from tensorflow-probability>=0.14.1->tf-agents[reverb]) (4.4.2)\n"
          ]
        }
      ],
      "source": [
        "#Installation\n",
        "!sudo apt-get update\n",
        "!pip install pygame\n",
        "!pip install tensorflow\n",
        "!pip install tf-agents[reverb]"
      ]
    },
    {
      "cell_type": "markdown",
      "source": [
        "## Import des modules"
      ],
      "metadata": {
        "id": "TPyah480MRbE"
      }
    },
    {
      "cell_type": "code",
      "source": [
        "import pygame\n",
        "import random as r\n",
        "import math\n",
        "import numpy as np\n",
        "\n",
        "#TensorFlow\n",
        "import tensorflow as tf\n",
        "from tf_agents.environments import tf_environment\n",
        "from tf_agents.environments import tf_py_environment\n",
        "from tf_agents.environments import utils\n",
        "from tf_agents.environments import py_environment\n",
        "from tf_agents.specs import array_spec\n",
        "from tf_agents.trajectories import time_step as ts\n",
        "from tf_agents.networks import actor_distribution_network\n",
        "from tf_agents.agents.reinforce import reinforce_agent\n",
        "from tf_agents.specs import tensor_spec\n",
        "from tf_agents.networks import sequential\n",
        "from tf_agents.agents.dqn import dqn_agent\n",
        "from tf_agents.utils import common\n",
        "from tf_agents.policies import random_tf_policy\n",
        "from tf_agents.drivers import py_driver\n",
        "from tf_agents.policies import py_tf_eager_policy\n",
        "\n",
        "#Reverb\n",
        "import reverb\n",
        "from tf_agents.replay_buffers import reverb_replay_buffer\n",
        "from tf_agents.replay_buffers import reverb_utils"
      ],
      "metadata": {
        "id": "Me8j3DHbMRsH"
      },
      "execution_count": 61,
      "outputs": []
    },
    {
      "cell_type": "markdown",
      "source": [
        "## Création des classes"
      ],
      "metadata": {
        "id": "NS96Qmo6MfQr"
      }
    },
    {
      "cell_type": "code",
      "source": [
        "class wall():\n",
        "    def __init__(self,instanceEnv):\n",
        "        ## Env Variables ##\n",
        "        self.env = instanceEnv\n",
        "\n",
        "        ## Wall Variables ##\n",
        "        # Same random seed for every creation of wall\n",
        "        r.seed(1000) #1000\n",
        "        # number of brick per row and per column\n",
        "        self.rows = 6\n",
        "        self.cols = 5\n",
        "        #Sizes\n",
        "        self.wallHeight = (self.env.height - 100) // 2\n",
        "        self.brickHeight = self.wallHeight // self.rows\n",
        "\n",
        "        #Table for storing bricks\n",
        "        self.bricks = []\n",
        "        #Number of breakable bricks\n",
        "        self.breakableBricks = 0\n",
        "        \n",
        "        # border of the bricks (gap between bricks)\n",
        "        self.border = 3\n",
        "        self.brickWidth = self.env.width // self.cols\n",
        "\n",
        "        #Save of the wall in order to reset the episode\n",
        "        self.save = []\n",
        "\n",
        "    def createBricks(self):\n",
        "        for rowNumber in range(self.rows):\n",
        "            for colNumber in range(self.cols):\n",
        "                # Create Rectancle for each brick\n",
        "                brick = pygame.Rect(\n",
        "                    colNumber*self.brickWidth, 100+rowNumber*self.brickHeight, self.brickWidth, self.brickHeight)\n",
        "                \n",
        "                # 25% unbreakable bricks\n",
        "                type = r.randint(0,3)\n",
        "                if type != 0:\n",
        "                    self.breakableBricks+=1\n",
        "\n",
        "                # Store bricks inside table\n",
        "                self.bricks.append(\n",
        "                    (colNumber, rowNumber, type, brick))\n",
        "\n",
        "                colNumber += 1\n",
        "            rowNumber += 1\n",
        "        #Save the wall \n",
        "        self.save = self.bricks.copy()\n",
        "\n",
        "    def resetBricks(self):\n",
        "        self.bricks = self.save.copy()      \n",
        "\n",
        "    def printWall(self,screen):\n",
        "        for brick in self.bricks:\n",
        "            # check for unbreakable bricks\n",
        "            if(brick[2] == 0):\n",
        "                color = self.env.color1\n",
        "            else:\n",
        "                color = self.env.color2\n",
        "            \n",
        "            # print bricks\n",
        "            pygame.draw.rect(screen, (color),\n",
        "                             ((brick[3].x + self.border), (brick[3].y + self.border), self.brickWidth - 2*self.border, self.brickHeight - 2*self.border))\n",
        "\n",
        "class paddle():\n",
        "    def __init__(self,instanceEnv):\n",
        "        ## Env Variables ##\n",
        "        self.env = instanceEnv\n",
        "\n",
        "        ## Paddle Variables ##\n",
        "        # Sizes\n",
        "        self.paddleWidth = self.env.width // 5\n",
        "        self.paddleHeight = 10\n",
        "        # Initial Position\n",
        "        self.x = (self.env.width - self.paddleWidth)/2  \n",
        "        self.y = self.env.height - 60\n",
        "        #Create teh rectangle of the paddle\n",
        "        self.rect = pygame.Rect(\n",
        "            self.x, self.y, self.paddleWidth, self.paddleHeight)\n",
        "        #Speed of the paddle\n",
        "        self.speed = 8\n",
        "\n",
        "    def printPaddle(self,screen):\n",
        "        pygame.draw.rect(screen, self.env.color3, self.rect)     \n",
        "\n",
        "    def move(self):\n",
        "        # get key pressed\n",
        "        key = pygame.key.get_pressed()\n",
        "\n",
        "        # move left\n",
        "        if key[pygame.K_LEFT] and self.rect.left > 0:\n",
        "            self.rect.x -= self.speed\n",
        "\n",
        "        # move right\n",
        "        if key[pygame.K_RIGHT] and self.rect.right < self.env.width:\n",
        "            self.rect.x += self.speed\n",
        "\n",
        "class ball():\n",
        "    def __init__(self,instanceEnv):\n",
        "        ## Env Variables ##\n",
        "        self.env = instanceEnv\n",
        "\n",
        "        ## Ball Variables ##\n",
        "        # Initial speed of the ball on each axes\n",
        "        self.ballSpeed = 2.5  # on Axes at the beginning\n",
        "        self.speedx = self.ballSpeed\n",
        "        self.speedy = -self.ballSpeed\n",
        "\n",
        "        # Global Velocity of the ball\n",
        "        self.velocity = math.sqrt(2*(self.ballSpeed**2))\n",
        "\n",
        "        # Radius of the ball\n",
        "        self.rad = 10\n",
        "\n",
        "        # Initial position of the ball\n",
        "        self.x = self.env.width // 2 - self.rad  # init position of the rectangle\n",
        "        self.y = self.env.height - 90            # init position of the rectangle\n",
        "\n",
        "        # Create a rectangle around the ball\n",
        "        self.rect = pygame.Rect(\n",
        "            self.x, self.y, 2*self.rad, 2*self.rad)\n",
        "\n",
        "        #Horizontal Direction (from the left to the right = 1)\n",
        "        self.directionH = 1\n",
        "\n",
        "        #Angle of the colision between the ball and the paddle (or the wall)\n",
        "        self.angle = -1\n",
        "        #Angle of the redirection after colision\n",
        "        self.newAngle = -1\n",
        "\n",
        "        #Save the nature of the colision (wall, screen, or paddle)\n",
        "        self.lastCollision = \"\"\n",
        "\n",
        "        # margin Error for Colisions\n",
        "        self.margin = 5\n",
        "\n",
        "    def printBall(self,screen):\n",
        "        pygame.draw.circle(screen, self.env.color3, (self.rect.x +\n",
        "                                            self.rad, self.rect.y + self.rad), self.rad)\n",
        "        \n",
        "    def move(self, paddleRect, wallBricks):\n",
        "        #reset lastCollision\n",
        "        self.lastCollision = \"\"\n",
        "\n",
        "        # Add speed every tick to the ball's coordinates\n",
        "        self.x += self.speedx\n",
        "        self.y += self.speedy\n",
        "\n",
        "        # Update the position of the ball\n",
        "        self.rect.x = self.x\n",
        "        self.rect.y = self.y\n",
        "\n",
        "        #-- Check for screen borders --#\n",
        "        # left and right borders\n",
        "        if self.rect.right > self.env.width or self.rect.left < 0:\n",
        "            self.speedx *= -1\n",
        "            #save collision for reward\n",
        "            self.lastCollision = \"sideBorder\"\n",
        "\n",
        "        # top border\n",
        "        elif self.rect.top < 0:\n",
        "            self.speedy *= -1\n",
        "            #save collision for reward\n",
        "            self.lastCollision = \"topBorder\"\n",
        "\n",
        "        # bottom border\n",
        "        elif self.rect.bottom > self.env.height:\n",
        "            #save collision for reward\n",
        "            self.lastCollision = \"endBorder\"\n",
        "\n",
        "            # reset ball position\n",
        "            self.x = self.env.width // 2 - self.rad\n",
        "            self.y = self.env.height - 90\n",
        "            self.rect.x = self.x\n",
        "            self.rect.y = self.y\n",
        "            self.speedx = self.ballSpeed\n",
        "            self.speedy = -self.ballSpeed\n",
        "\n",
        "            # reset paddle position\n",
        "            paddleRect.rect.x = (self.env.width - paddleRect.paddleWidth)/2  # init position\n",
        "\n",
        "            # get a new ball if availabe\n",
        "            if self.env.balls > 0:\n",
        "                # delete a ball\n",
        "                self.env.balls -= 1\n",
        "\n",
        "            else:  # no ball left\n",
        "                self.env._episode_ended = True\n",
        "\n",
        "        #-- End Check for screen borders --#\n",
        "\n",
        "        #-- Check for collisions between ball and paddle --#\n",
        "        elif self.rect.y > paddleRect.rect.y - 2*self.rad:\n",
        "            if self.rect.colliderect(paddleRect):\n",
        "\n",
        "                # TOP COLLISION\n",
        "                # check if ball is on top of the trail (between the 5px margin)\n",
        "                if(abs(self.rect.bottom - paddleRect.rect.y) < self.margin and self.speedy > 0):\n",
        "\n",
        "                    #save collision for reward\n",
        "                    self.lastCollision = \"top\"\n",
        "\n",
        "                    # calculate angle between the ball's path and the trail\n",
        "                    if self.speedx == 0:\n",
        "                        self.angle = 90\n",
        "                    else:\n",
        "                        self.angle = abs(math.degrees(\n",
        "                            math.atan(self.speedy/abs(self.speedx))))\n",
        "\n",
        "                    if(self.speedx > 0):\n",
        "                        self.directionH = 1  # from the left\n",
        "                    else:\n",
        "                        self.directionH = -1  # from the right\n",
        "\n",
        "                    # change x if not on the middle of the paddle\n",
        "\n",
        "                    # LEFT PART\n",
        "                    if self.rect.right >= paddleRect.rect.x and self.rect.left < paddleRect.rect.x + (0.2 * paddleRect.paddleWidth):\n",
        "\n",
        "                        if self.directionH == 1:  # from the left\n",
        "                            # increase angle by 35%\n",
        "                            if self.angle < 30:\n",
        "                                self.newAngle = self.angle*1.35\n",
        "\n",
        "                            elif self.angle > 60:  # increase angle by 25%\n",
        "                                self.newAngle = self.angle*1.25\n",
        "\n",
        "                            else:  # increase angle by 30%\n",
        "                                self.newAngle = self.angle*1.30\n",
        "\n",
        "                        else:  # from the right\n",
        "                            # reduce angle by 35%\n",
        "                            if self.angle < 30:\n",
        "                                self.newAngle = self.angle*0.65\n",
        "\n",
        "                            elif self.angle > 60:  # reduce angle by 25%\n",
        "                                self.newAngle = self.angle*0.75\n",
        "\n",
        "                            else:  # reduce angle by 30%\n",
        "                                self.newAngle = self.angle*0.70\n",
        "\n",
        "                        self.speedx = - \\\n",
        "                            (math.cos(math.radians(self.newAngle)) * self.velocity)\n",
        "                        self.speedy = - \\\n",
        "                            (math.sin(math.radians(self.newAngle)) * self.velocity)\n",
        "\n",
        "                    # MIDDLE LEFT PART\n",
        "                    elif self.rect.right >= paddleRect.rect.x + (0.2 *paddleRect.paddleWidth) and self.rect.left < paddleRect.rect.x + (0.4 *paddleRect.paddleWidth):\n",
        "\n",
        "                        if self.directionH == 1:  # from the left\n",
        "                            # increase angle by 20%\n",
        "                            if self.angle < 30:\n",
        "                                self.newAngle = self.angle*1.2\n",
        "\n",
        "                            elif self.angle > 60:  # increase angle by 10%\n",
        "                                self.newAngle = self.angle*1.1\n",
        "\n",
        "                            else:  # increase angle by 15%\n",
        "                                self.newAngle = self.angle*1.15\n",
        "\n",
        "                        else:  # from the right\n",
        "                            # reduce angle by 20%\n",
        "                            if self.angle < 30:\n",
        "                                self.newAngle = self.angle*0.8\n",
        "\n",
        "                            elif self.angle > 60:  # reduce angle by 10%\n",
        "                                self.newAngle = self.angle*0.9\n",
        "\n",
        "                            else:  # reduce angle by 15%\n",
        "                                self.newAngle = self.angle*0.85\n",
        "\n",
        "                        self.speedx = - \\\n",
        "                            (math.cos(math.radians(self.newAngle)) * self.velocity)\n",
        "                        self.speedy = - \\\n",
        "                            (math.sin(math.radians(self.newAngle)) * self.velocity)\n",
        "\n",
        "                    elif self.rect.right >= paddleRect.rect.x + (0.4 * paddleRect.paddleWidth) and self.rect.left < paddleRect.rect.x + (0.6 * paddleRect.paddleWidth):\n",
        "                        # angle is not changed\n",
        "                        self.speedy *= -1\n",
        "\n",
        "                    # MIDLE RIGHT PART\n",
        "                    elif self.rect.right >= paddleRect.rect.x + (0.6 * paddleRect.paddleWidth) and self.rect.left < paddleRect.rect.x + (0.8 * paddleRect.paddleWidth):\n",
        "\n",
        "                        if self.directionH == 1:  # from the left\n",
        "                            # reduce angle by 20%\n",
        "                            if self.angle < 30:\n",
        "                                self.newAngle = self.angle*0.8\n",
        "\n",
        "                            elif self.angle > 60:  # reduce angle by 10%\n",
        "                                self.newAngle = self.angle*0.9\n",
        "\n",
        "                            else:  # send the ball in opposite direction\n",
        "                                # reduce angle by 15%\n",
        "                                self.newAngle = self.angle*0.85\n",
        "\n",
        "                        else:  # from the right\n",
        "                            if self.angle < 30:\n",
        "                                # increase angle by 20%\n",
        "                                self.newAngle = self.angle*1.2\n",
        "\n",
        "                            elif self.angle > 60:  # increase angle by 10%\n",
        "                                self.newAngle = self.angle*1.1\n",
        "\n",
        "                            else:  # increase angle by 15%\n",
        "                                self.newAngle = self.angle*1.15\n",
        "\n",
        "                        self.speedx = \\\n",
        "                            (math.cos(math.radians(self.newAngle)) * self.velocity)\n",
        "                        self.speedy = - \\\n",
        "                            (math.sin(math.radians(self.newAngle)) * self.velocity)\n",
        "\n",
        "                    # RIGHT PART\n",
        "                    elif self.rect.right >= paddleRect.rect.x + (0.8 * paddleRect.paddleWidth) and self.rect.left < paddleRect.rect.x + paddleRect.paddleWidth:\n",
        "                        if self.directionH == 1:  # from the left\n",
        "                            # reduce angle by 35%\n",
        "                            if self.angle < 30:\n",
        "                                self.newAngle = self.angle*0.65\n",
        "\n",
        "                            elif self.angle > 60:  # reduce angle by 25%\n",
        "                                self.newAngle = self.angle*0.75\n",
        "\n",
        "                            else:  # send the ball in opposite direction\n",
        "                                # reduce angle by 30%\n",
        "                                self.newAngle = self.angle*0.70\n",
        "\n",
        "                        else:  # from the right\n",
        "                            if self.angle < 30:\n",
        "                                # increase angle by 35%\n",
        "                                self.newAngle = self.angle*1.35\n",
        "\n",
        "                            elif self.angle > 60:  # increase angle by 25%\n",
        "                                self.newAngle = self.angle*1.25\n",
        "\n",
        "                            else:  # increase angle by 30%\n",
        "                                self.newAngle = self.angle*1.30\n",
        "\n",
        "                        self.speedx = \\\n",
        "                            (math.cos(math.radians(self.newAngle)) * self.velocity)\n",
        "                        self.speedy = - \\\n",
        "                            (math.sin(math.radians(self.newAngle)) * self.velocity)\n",
        "\n",
        "                # SIDES COLLISIONS\n",
        "                else:  # collision with side\n",
        "                    #save collision for reward\n",
        "                    self.lastCollision = \"side\"\n",
        "                    if (abs(self.rect.left - paddleRect.rect.right) < self.margin):\n",
        "                        # check direction of the ball\n",
        "                        if self.speedx < 0:\n",
        "                            self.speedx *= -1\n",
        "                        else:  # if same direction as the paddle don't reverse direction but increase speed\n",
        "                            self.speedx += 3\n",
        "\n",
        "                    elif (abs(self.rect.right - paddleRect.rect.left) < self.margin):\n",
        "                        # check direction of the ball\n",
        "                        if self.speedx > 0:\n",
        "                            self.speedx *= -1\n",
        "                        else:  # if same direction as the paddle don't reverse direction but increase speed\n",
        "                            self.speedx -= 3\n",
        "\n",
        "        #-- End Check for collisions between ball and paddle --#\n",
        "\n",
        "        #-- Check for collisions between ball and Bricks --#\n",
        "        elif self.rect.y > 0 and self.rect.y < (self.env.height // 2) + 100:\n",
        "            for brick in wallBricks:\n",
        "                if(self.rect.colliderect(brick[3])):\n",
        "                    # check if collision is on top or at bottom of the brick\n",
        "                    if ((abs(self.rect.top - brick[3].bottom) < self.margin and self.speedy < 0) or\n",
        "                            (abs(self.rect.bottom - brick[3].top) < self.margin and self.speedy > 0)):\n",
        "                        # top or bottom\n",
        "                        self.speedy *= -1\n",
        "\n",
        "                    elif ((abs(self.rect.left - brick[3].right) < self.margin and self.speedx < 0) or\n",
        "                          (abs(self.rect.right - brick[3].left) < self.margin and self.speedx > 0)):\n",
        "                        # right or left\n",
        "                        self.speedx *= -1\n",
        "\n",
        "                    # delete the brick if breakable\n",
        "                    if(brick[2] != 0):\n",
        "                        wallBricks.remove(brick)\n",
        "                        #add score\n",
        "                        self.env.score+=1\n",
        "\n",
        "    def gravity(self):\n",
        "        if (self.speedy >= 0 and self.speedy < 1):  # stuck horizontally\n",
        "            self.speedy = 1\n",
        "        elif (self.speedy < 0 and self.speedy > -1):  # stuck horizontally\n",
        "            self.speedy = -1"
      ],
      "metadata": {
        "id": "p8LKsEchMfAI"
      },
      "execution_count": 62,
      "outputs": []
    },
    {
      "cell_type": "markdown",
      "source": [
        "## Création de l'environnement"
      ],
      "metadata": {
        "id": "6pEkGMQrMrR-"
      }
    },
    {
      "cell_type": "code",
      "source": [
        "class BreakoutEnv(py_environment.PyEnvironment):\n",
        "  def __init__(self, visualize, fps=10000):\n",
        "    ## Init Variables ##\n",
        "    # screen size\n",
        "    self.width = 640\n",
        "    self.height = 600   \n",
        "\n",
        "    # remaining balls\n",
        "    self.balls = 2 \n",
        "\n",
        "    ## Init object ##\n",
        "    self.wall = wall(self)\n",
        "    self.paddle = paddle(self)\n",
        "    self.ball = ball(self)\n",
        "\n",
        "    # Score #\n",
        "    self.score = 0\n",
        "\n",
        "    ## Definition of actions and observation \n",
        "    #three actions : move left, move right or stand still\n",
        "    self._action_spec = array_spec.BoundedArraySpec(\n",
        "        shape=(), dtype=np.int32, minimum=0, maximum=2, name='action')\n",
        "        \n",
        "    #observation on ball's position and paddle's position\n",
        "    self._observation_spec = array_spec.BoundedArraySpec(\n",
        "        shape=(2,), dtype=np.int32, minimum=0, maximum=self.width, name='observation')\n",
        "    #observations are stored inside self._state\n",
        "    self._state = [self.paddle.rect.x,self.ball.rect.x]\n",
        "\n",
        "    #Check if episode is ended\n",
        "    self._episode_ended = False\n",
        "\n",
        "    #Variables for Pygame\n",
        "    self.visualize = visualize \n",
        "    #Activate the visualisation\n",
        "    if(visualize==True):\n",
        "        # Create the screen\n",
        "        self.screen = None\n",
        "\n",
        "        # Create the clock\n",
        "        self.clock = pygame.time.Clock()\n",
        "        self.fps = fps\n",
        "\n",
        "        # title\n",
        "        pygame.display.set_caption('Breakout')\n",
        "\n",
        "  def action_spec(self):\n",
        "    return self._action_spec\n",
        "\n",
        "  def observation_spec(self):\n",
        "    return self._observation_spec\n",
        "\n",
        "  def _reset(self): #a faire\n",
        "    self._episode_ended = False\n",
        "    #Reset wall\n",
        "    self.wall.resetBricks()\n",
        "    #reset remainig balls\n",
        "    self.balls = 2\n",
        "    #reset score\n",
        "    self.score = 0\n",
        "\n",
        "    return ts.restart(np.array(self._state, dtype=np.int32))\n",
        "\n",
        "  def _step(self, action):\n",
        "    #Check if last action ended the episode\n",
        "    if self._episode_ended:\n",
        "      #restart a new episode\n",
        "      return self.reset()\n",
        "\n",
        "    #Move the ball\n",
        "    self.ball.move(self.paddle, self.wall.bricks)\n",
        "\n",
        "    # Apply action\n",
        "    if(action == 0 ) : #left\n",
        "        if(self.paddle.rect.x - self.paddle.speed < 0):\n",
        "            self.paddle.rect.x = 0\n",
        "        else:\n",
        "            self.paddle.rect.x -= self.paddle.speed\n",
        "        self.state = self.paddle.rect.x\n",
        "    elif action == 1 : #stand still\n",
        "        pass\n",
        "    else : # right\n",
        "        if(self.paddle.rect.x + self.paddle.paddleWidth + self.paddle.speed > self.width):\n",
        "            self.paddle.rect.x = self.width - self.paddle.paddleWidth\n",
        "        else:\n",
        "            self.paddle.rect.x += self.paddle.speed\n",
        "        self.state = self.paddle.rect.x     \n",
        "\n",
        "    #reward for beiing at same position of the ball\n",
        "    if(self.ball.rect.x > self.paddle.rect.x and (self.ball.rect.x + self.ball.rad*2) < (self.paddle.rect.x + self.paddle.paddleWidth)):\n",
        "        reward = 1\n",
        "    else : \n",
        "        reward = -1\n",
        "\n",
        "    if(self.visualize == True):\n",
        "        #limit the clock\n",
        "        self.clock.tick(self.fps)\n",
        "        self.render()\n",
        "\n",
        "    # Check if game is done\n",
        "    if self._episode_ended == True: \n",
        "        return ts.termination(np.array(self._state, dtype=np.int32), reward)\n",
        "    else:\n",
        "        return ts.transition(np.array(self._state, dtype=np.int32), reward)"
      ],
      "metadata": {
        "id": "Z1q4EdBWMsqj"
      },
      "execution_count": 63,
      "outputs": []
    },
    {
      "cell_type": "markdown",
      "source": [
        "## Instanciation de l'environnement python"
      ],
      "metadata": {
        "id": "OXKShXL2M9r4"
      }
    },
    {
      "cell_type": "code",
      "source": [
        "#-- Create Python Environment --#\n",
        "env = BreakoutEnv(visualize=False) #add fps parameters if needed\n",
        "print('Action Spec:', env.action_spec())\n",
        "\n",
        "# check if python environement is correct\n",
        "print(\"validate python environment\")\n",
        "utils.validate_py_environment(env, episodes=5)"
      ],
      "metadata": {
        "colab": {
          "base_uri": "https://localhost:8080/"
        },
        "id": "n8svAovXM6fE",
        "outputId": "030fed60-2442-402a-b834-4b88cb4f9df3"
      },
      "execution_count": 64,
      "outputs": [
        {
          "output_type": "stream",
          "name": "stdout",
          "text": [
            "Action Spec: BoundedArraySpec(shape=(), dtype=dtype('int32'), name='action', minimum=0, maximum=2)\n",
            "validate python environment\n"
          ]
        }
      ]
    },
    {
      "cell_type": "markdown",
      "source": [
        "### Test de l'environnement python"
      ],
      "metadata": {
        "id": "QOijKnvkNHlz"
      }
    },
    {
      "cell_type": "code",
      "source": [
        "#Variables for testing environment\n",
        "num_episode = 10  # @param {type:\"integer\"}\n",
        "reward = 0 "
      ],
      "metadata": {
        "id": "P2FWVAsWNGxD"
      },
      "execution_count": 65,
      "outputs": []
    },
    {
      "cell_type": "code",
      "source": [
        "#-- Test with Python Environment pygame --#\n",
        "for i in range(num_episode):\n",
        "    time_step = env.reset()\n",
        "    #while episode not done\n",
        "    while not time_step.is_last():\n",
        "        #tensorFlow environment\n",
        "        action = np.random.randint(0,3)\n",
        "        time_step = env.step(action)\n",
        "        reward += time_step.reward\n",
        "    print(\"Episode \"+str(i+1)+\"/\"+str(num_episode)+ \" done : \" + str(env.score) + \n",
        "    \"/\" + str(env.wall.breakableBricks)+\" bricks\")\n",
        "\n",
        "print(\"reward:\",reward)"
      ],
      "metadata": {
        "colab": {
          "base_uri": "https://localhost:8080/"
        },
        "id": "JqKutEauNKM0",
        "outputId": "d43dc503-6f74-406f-928b-6af73d34c57f"
      },
      "execution_count": 66,
      "outputs": [
        {
          "output_type": "stream",
          "name": "stdout",
          "text": [
            "Episode 1/10 done : 0/0 bricks\n",
            "Episode 2/10 done : 0/0 bricks\n",
            "Episode 3/10 done : 0/0 bricks\n",
            "Episode 4/10 done : 0/0 bricks\n",
            "Episode 5/10 done : 0/0 bricks\n",
            "Episode 6/10 done : 0/0 bricks\n",
            "Episode 7/10 done : 0/0 bricks\n",
            "Episode 8/10 done : 0/0 bricks\n",
            "Episode 9/10 done : 0/0 bricks\n",
            "Episode 10/10 done : 0/0 bricks\n",
            "reward: -9882.0\n"
          ]
        }
      ]
    },
    {
      "cell_type": "markdown",
      "source": [
        "## Conversion vers un environnement TensorFlow"
      ],
      "metadata": {
        "id": "yoJdTTCrNUGd"
      }
    },
    {
      "cell_type": "code",
      "source": [
        "#-- Convert in Tensor Environment --#\n",
        "tf_env = tf_py_environment.TFPyEnvironment(env)\n",
        "\n",
        "# Check if TensorFlow environment is correct\n",
        "print(isinstance(tf_env, tf_environment.TFEnvironment))\n",
        "print(\"TimeStep Specs:\", tf_env.time_step_spec())\n",
        "print(\"Action Specs:\", tf_env.action_spec())"
      ],
      "metadata": {
        "colab": {
          "base_uri": "https://localhost:8080/"
        },
        "id": "-Fkzs4h0NRnH",
        "outputId": "709b2040-7e19-440e-b221-0e805360f83b"
      },
      "execution_count": 67,
      "outputs": [
        {
          "output_type": "stream",
          "name": "stdout",
          "text": [
            "True\n",
            "TimeStep Specs: TimeStep(\n",
            "{'discount': BoundedTensorSpec(shape=(), dtype=tf.float32, name='discount', minimum=array(0., dtype=float32), maximum=array(1., dtype=float32)),\n",
            " 'observation': BoundedTensorSpec(shape=(2,), dtype=tf.int32, name='observation', minimum=array(0, dtype=int32), maximum=array(640, dtype=int32)),\n",
            " 'reward': TensorSpec(shape=(), dtype=tf.float32, name='reward'),\n",
            " 'step_type': TensorSpec(shape=(), dtype=tf.int32, name='step_type')})\n",
            "Action Specs: BoundedTensorSpec(shape=(), dtype=tf.int32, name='action', minimum=array(0, dtype=int32), maximum=array(2, dtype=int32))\n"
          ]
        }
      ]
    },
    {
      "cell_type": "markdown",
      "source": [
        "### Test de l'environnement TensorFlow"
      ],
      "metadata": {
        "id": "iB2Lqs7KNnab"
      }
    },
    {
      "cell_type": "code",
      "source": [
        "#-- Test  with Tensor Environment pygame --#\n",
        "for i in range(num_episode):\n",
        "    time_step = tf_env.reset()\n",
        "    #while episode not done\n",
        "    while not time_step.is_last():\n",
        "        #tensorFlow environment\n",
        "        action = tf.random.uniform(shape=[], minval=0, maxval=3, dtype=tf.int32)\n",
        "        time_step = tf_env.step(action)\n",
        "        reward += time_step.reward\n",
        "    print(\"Episode \"+str(i+1)+\"/\"+str(num_episode)+ \" done : \" + str(env.score) + \n",
        "    \"/\" + str(env.wall.breakableBricks)+\" bricks\")\n",
        "\n",
        "print(\"reward:\",reward.numpy())"
      ],
      "metadata": {
        "colab": {
          "base_uri": "https://localhost:8080/"
        },
        "id": "ixr-n8cqNnHU",
        "outputId": "fa14eec5-caa2-429c-ab8a-6a5acf7805cb"
      },
      "execution_count": 68,
      "outputs": [
        {
          "output_type": "stream",
          "name": "stdout",
          "text": [
            "Episode 1/10 done : 0/0 bricks\n",
            "Episode 2/10 done : 0/0 bricks\n",
            "Episode 3/10 done : 0/0 bricks\n",
            "Episode 4/10 done : 0/0 bricks\n",
            "Episode 5/10 done : 0/0 bricks\n",
            "Episode 6/10 done : 0/0 bricks\n",
            "Episode 7/10 done : 0/0 bricks\n",
            "Episode 8/10 done : 0/0 bricks\n",
            "Episode 9/10 done : 0/0 bricks\n",
            "Episode 10/10 done : 0/0 bricks\n",
            "reward: [-20224.]\n"
          ]
        }
      ]
    },
    {
      "cell_type": "markdown",
      "source": [
        "# Entrainement de l'IA"
      ],
      "metadata": {
        "id": "dbnfxlQ3NtWX"
      }
    },
    {
      "cell_type": "markdown",
      "source": [
        "## Instanciation des environnements et conversion"
      ],
      "metadata": {
        "id": "g4iz2q4FOcGS"
      }
    },
    {
      "cell_type": "code",
      "source": [
        "#Basic environment\n",
        "env = BreakoutEnv(visualize=False) #add fps parameters if needed\n",
        "\n",
        "#Create environment\n",
        "train_py_env = BreakoutEnv(visualize=False)\n",
        "eval_py_env = BreakoutEnv(visualize=False) \n",
        "\n",
        "#Convert into tf environment\n",
        "train_env = tf_py_environment.TFPyEnvironment(train_py_env)\n",
        "eval_env = tf_py_environment.TFPyEnvironment(eval_py_env) "
      ],
      "metadata": {
        "id": "_TrNLfKFObCO"
      },
      "execution_count": 69,
      "outputs": []
    },
    {
      "cell_type": "markdown",
      "source": [
        "## Récupération des actions"
      ],
      "metadata": {
        "id": "rivmf2x1OjkX"
      }
    },
    {
      "cell_type": "code",
      "source": [
        "action_tensor_spec = tensor_spec.from_spec(env.action_spec())\n",
        "num_actions = action_tensor_spec.maximum - action_tensor_spec.minimum + 1"
      ],
      "metadata": {
        "id": "nU18S1C1Q_J_"
      },
      "execution_count": 70,
      "outputs": []
    },
    {
      "cell_type": "markdown",
      "source": [
        "## Création des couches"
      ],
      "metadata": {
        "id": "aqBE_YScRLlM"
      }
    },
    {
      "cell_type": "code",
      "source": [
        "learning_rate = 1e-3  # @param {type:\"number\"}\n",
        "fc_layer_params = (100, 50) \n",
        "# Define a helper function to create Dense layers configured with the right\n",
        "# activation and kernel initializer.\n",
        "def dense_layer(num_units):\n",
        "  return tf.keras.layers.Dense(\n",
        "      num_units,\n",
        "      activation=tf.keras.activations.relu,\n",
        "      kernel_initializer=tf.keras.initializers.VarianceScaling(\n",
        "          scale=2.0, mode='fan_in', distribution='truncated_normal'))\n",
        "\n",
        "# QNetwork consists of a sequence of Dense layers followed by a dense layer\n",
        "# with `num_actions` units to generate one q_value per available action as\n",
        "# its output.\n",
        "\n",
        "dense_layers = [dense_layer(num_units) for num_units in fc_layer_params]\n",
        "q_values_layer = tf.keras.layers.Dense(\n",
        "    num_actions,\n",
        "    activation=None,\n",
        "    kernel_initializer=tf.keras.initializers.RandomUniform(\n",
        "        minval=-0.03, maxval=0.03),\n",
        "    bias_initializer=tf.keras.initializers.Constant(-0.2))\n",
        "q_net = sequential.Sequential(dense_layers + [q_values_layer])\n",
        "\n",
        "optimizer = tf.keras.optimizers.Adam(learning_rate=learning_rate)\n",
        "\n",
        "train_step_counter = tf.Variable(0)"
      ],
      "metadata": {
        "id": "oYCoc447RKhq"
      },
      "execution_count": 71,
      "outputs": []
    },
    {
      "cell_type": "markdown",
      "source": [
        "## Création de l'agent DQN"
      ],
      "metadata": {
        "id": "ZapwqPmuRXAO"
      }
    },
    {
      "cell_type": "code",
      "source": [
        "#Use DQN agent to train IA\n",
        "agent = dqn_agent.DqnAgent(\n",
        "    train_env.time_step_spec(),\n",
        "    train_env.action_spec(),\n",
        "    q_network=q_net,\n",
        "    optimizer=optimizer,\n",
        "    td_errors_loss_fn=common.element_wise_squared_loss,\n",
        "    train_step_counter=train_step_counter)\n",
        "\n",
        "agent.initialize()\n"
      ],
      "metadata": {
        "id": "13ekcWPuRV2p"
      },
      "execution_count": 72,
      "outputs": []
    },
    {
      "cell_type": "markdown",
      "source": [
        "## Création des polices"
      ],
      "metadata": {
        "id": "ZkSdyy7mRaqD"
      }
    },
    {
      "cell_type": "code",
      "source": [
        "#Create Policies\n",
        "eval_policy = agent.policy\n",
        "collect_policy = agent.collect_policy\n",
        "\n",
        "#Create random policies\n",
        "random_policy = random_tf_policy.RandomTFPolicy(train_env.time_step_spec(),\n",
        "                                                train_env.action_spec())\n",
        "time_step = train_env.reset()\n",
        "print(random_policy.action(time_step))"
      ],
      "metadata": {
        "colab": {
          "base_uri": "https://localhost:8080/"
        },
        "id": "5djDhHuhRa3I",
        "outputId": "7da84e08-61b4-47f3-b789-23a08b136bfb"
      },
      "execution_count": 73,
      "outputs": [
        {
          "output_type": "stream",
          "name": "stdout",
          "text": [
            "PolicyStep(action=<tf.Tensor: shape=(1,), dtype=int32, numpy=array([0], dtype=int32)>, state=(), info=())\n"
          ]
        }
      ]
    },
    {
      "cell_type": "markdown",
      "source": [
        "### Fonction pour faire la moyenne des résultats "
      ],
      "metadata": {
        "id": "Dyc2FpORRguB"
      }
    },
    {
      "cell_type": "code",
      "source": [
        "#Compute average\n",
        "def compute_avg_return(environment, policy, num_episodes=10):\n",
        "\n",
        "  total_return = 0.0\n",
        "  for _ in range(num_episodes):\n",
        "\n",
        "    time_step = environment.reset()\n",
        "    episode_return = 0.0\n",
        "\n",
        "    while not time_step.is_last():\n",
        "      action_step = policy.action(time_step)\n",
        "      time_step = environment.step(action_step.action)\n",
        "      episode_return += time_step.reward\n",
        "    total_return += episode_return\n",
        "\n",
        "  avg_return = total_return / num_episodes\n",
        "  return avg_return.numpy()[0]"
      ],
      "metadata": {
        "id": "6OSGpgn2RgPj"
      },
      "execution_count": 74,
      "outputs": []
    },
    {
      "cell_type": "markdown",
      "source": [
        "### Test avec la police aléatoire"
      ],
      "metadata": {
        "id": "NlKbCvICRmuJ"
      }
    },
    {
      "cell_type": "code",
      "source": [
        "num_eval_episodes = 10  # @param {type:\"integer\"}\n",
        "#Test with random policy\n",
        "print(\"Test with random policy\")\n",
        "compute_avg_return(eval_env, random_policy, num_eval_episodes)"
      ],
      "metadata": {
        "colab": {
          "base_uri": "https://localhost:8080/"
        },
        "id": "Axl0YA6mRqFH",
        "outputId": "806f9ab1-d6df-4e4d-c0cc-077706b4c524"
      },
      "execution_count": 75,
      "outputs": [
        {
          "output_type": "stream",
          "name": "stdout",
          "text": [
            "Test with random policy\n"
          ]
        },
        {
          "output_type": "execute_result",
          "data": {
            "text/plain": [
              "-1026.6"
            ]
          },
          "metadata": {},
          "execution_count": 75
        }
      ]
    },
    {
      "cell_type": "markdown",
      "source": [
        "## Récupération des données via Reverb"
      ],
      "metadata": {
        "id": "7O__DpqMRpmt"
      }
    },
    {
      "cell_type": "code",
      "source": [
        "#Use Reverb to keep track of the data\n",
        "replay_buffer_max_length = 1000  # @param {type:\"integer\"}\n",
        "\n",
        "table_name = 'uniform_table'\n",
        "replay_buffer_signature = tensor_spec.from_spec(\n",
        "      agent.collect_data_spec)\n",
        "replay_buffer_signature = tensor_spec.add_outer_dim(\n",
        "    replay_buffer_signature)\n",
        "\n",
        "table = reverb.Table(\n",
        "    table_name,\n",
        "    max_size=replay_buffer_max_length,\n",
        "    sampler=reverb.selectors.Uniform(),\n",
        "    remover=reverb.selectors.Fifo(),\n",
        "    rate_limiter=reverb.rate_limiters.MinSize(1),\n",
        "    signature=replay_buffer_signature)\n",
        "\n",
        "reverb_server = reverb.Server([table])\n",
        "\n",
        "replay_buffer = reverb_replay_buffer.ReverbReplayBuffer(\n",
        "    agent.collect_data_spec,\n",
        "    table_name=table_name,\n",
        "    sequence_length=2,\n",
        "    local_server=reverb_server)\n",
        "\n",
        "rb_observer = reverb_utils.ReverbAddTrajectoryObserver(\n",
        "  replay_buffer.py_client,\n",
        "  table_name,\n",
        "  sequence_length=2)\n",
        "\n",
        "agent.collect_data_spec\n",
        "agent.collect_data_spec._fields"
      ],
      "metadata": {
        "colab": {
          "base_uri": "https://localhost:8080/"
        },
        "id": "xWLpJrR-RxwB",
        "outputId": "1bfd7138-3960-401c-a548-1fa2f0def083"
      },
      "execution_count": 76,
      "outputs": [
        {
          "output_type": "execute_result",
          "data": {
            "text/plain": [
              "('step_type',\n",
              " 'observation',\n",
              " 'action',\n",
              " 'policy_info',\n",
              " 'next_step_type',\n",
              " 'reward',\n",
              " 'discount')"
            ]
          },
          "metadata": {},
          "execution_count": 76
        }
      ]
    },
    {
      "cell_type": "markdown",
      "source": [
        "## Execution avec la police aléatoire, afin d'obtenir des données initiales"
      ],
      "metadata": {
        "id": "n803-cyhSbqU"
      }
    },
    {
      "cell_type": "code",
      "source": [
        "#Execution of the random policy in order to get data\n",
        "initial_collect_steps = 100  # @param {type:\"integer\"}\n",
        "\n",
        "py_driver.PyDriver(\n",
        "    train_py_env, \n",
        "    py_tf_eager_policy.PyTFEagerPolicy(\n",
        "      random_policy, use_tf_function=True),\n",
        "    [rb_observer],\n",
        "    max_steps=initial_collect_steps).run(train_py_env.reset())"
      ],
      "metadata": {
        "colab": {
          "base_uri": "https://localhost:8080/"
        },
        "id": "8Y3YcTHVShRd",
        "outputId": "a031e364-a44b-47de-dd4e-8f200f927e25"
      },
      "execution_count": 77,
      "outputs": [
        {
          "output_type": "execute_result",
          "data": {
            "text/plain": [
              "(TimeStep(\n",
              "{'discount': array(1., dtype=float32),\n",
              " 'observation': array([256, 310], dtype=int32),\n",
              " 'reward': array(-1., dtype=float32),\n",
              " 'step_type': array(1, dtype=int32)}),\n",
              " ())"
            ]
          },
          "metadata": {},
          "execution_count": 77
        }
      ]
    },
    {
      "cell_type": "markdown",
      "source": [
        "## Création du Dataset pour permettre à l'agent de récuperer les informations obtenu via Reverb"
      ],
      "metadata": {
        "id": "xIxp_julSris"
      }
    },
    {
      "cell_type": "code",
      "source": [
        "#Create a dataset in order to let the agent get access to the replay buffer\n",
        "batch_size = 64  # @param {type:\"integer\"}\n",
        "\n",
        "# Dataset generates trajectories with shape [Bx2x...]\n",
        "dataset = replay_buffer.as_dataset(\n",
        "    num_parallel_calls=3,\n",
        "    sample_batch_size=batch_size,\n",
        "    num_steps=2).prefetch(3)\n",
        "\n",
        "dataset\n",
        "\n",
        "iterator = iter(dataset)\n",
        "# print(iterator)"
      ],
      "metadata": {
        "id": "kQDuUeWkSltv"
      },
      "execution_count": 78,
      "outputs": []
    },
    {
      "cell_type": "markdown",
      "source": [
        "## Entrainement de l'agent"
      ],
      "metadata": {
        "id": "TO4J1PTrSwFl"
      }
    },
    {
      "cell_type": "markdown",
      "source": [
        "### Optimisation"
      ],
      "metadata": {
        "id": "UNFy9pRUS3T-"
      }
    },
    {
      "cell_type": "code",
      "source": [
        "#Train the agent\n",
        "# (Optional) Optimize by wrapping some of the code in a graph using TF function.\n",
        "agent.train = common.function(agent.train)"
      ],
      "metadata": {
        "id": "6XUvTagsSwYl"
      },
      "execution_count": 79,
      "outputs": []
    },
    {
      "cell_type": "markdown",
      "source": [
        "### Remise à zéro de l'agent"
      ],
      "metadata": {
        "id": "rpwBF8acS9W9"
      }
    },
    {
      "cell_type": "code",
      "source": [
        "# Reset the train step.\n",
        "agent.train_step_counter.assign(0)"
      ],
      "metadata": {
        "colab": {
          "base_uri": "https://localhost:8080/"
        },
        "id": "8PLA0NZfS9QN",
        "outputId": "d0c65e10-91be-4102-a606-a9a63e80fce7"
      },
      "execution_count": 80,
      "outputs": [
        {
          "output_type": "execute_result",
          "data": {
            "text/plain": [
              "<tf.Variable 'UnreadVariable' shape=() dtype=int32, numpy=0>"
            ]
          },
          "metadata": {},
          "execution_count": 80
        }
      ]
    },
    {
      "cell_type": "markdown",
      "source": [
        "### Evaluation de la police de l'environnement avant l'entrainement"
      ],
      "metadata": {
        "id": "ThYs5D7US89p"
      }
    },
    {
      "cell_type": "code",
      "source": [
        "# Evaluate the agent's policy once before training.\n",
        "print(\"Evaluate the agent's policy once before training\")\n",
        "avg_return = compute_avg_return(eval_env, agent.policy, num_eval_episodes)\n",
        "returns = [avg_return]\n",
        "\n",
        "# Reset the environment.\n",
        "time_step = train_py_env.reset()"
      ],
      "metadata": {
        "colab": {
          "base_uri": "https://localhost:8080/"
        },
        "id": "OTCvbY7FS8w0",
        "outputId": "06129695-49fd-4156-f1c8-20e1427a41db"
      },
      "execution_count": 81,
      "outputs": [
        {
          "output_type": "stream",
          "name": "stdout",
          "text": [
            "Evaluate the agent's policy once before training\n"
          ]
        }
      ]
    },
    {
      "cell_type": "markdown",
      "source": [
        "### Entrainement"
      ],
      "metadata": {
        "id": "YcEIQnjkTQGe"
      }
    },
    {
      "cell_type": "code",
      "source": [
        "#Train the agent for num_terations\n",
        "num_iterations = 10000 # @param {type:\"integer\"}\n",
        "collect_steps_per_iteration =   1# @param {type:\"integer\"}\n",
        "log_interval = 200  # @param {type:\"integer\"}\n",
        "eval_interval = 1000  # @param {type:\"integer\"}\n",
        "\n",
        "# Create a driver to collect experience.\n",
        "collect_driver = py_driver.PyDriver(\n",
        "    train_py_env,\n",
        "    py_tf_eager_policy.PyTFEagerPolicy(\n",
        "      agent.collect_policy, use_tf_function=True),\n",
        "    [rb_observer],\n",
        "    max_steps=collect_steps_per_iteration)\n",
        "\n",
        "print(\"Beginning of the training\")\n",
        "for _ in range(num_iterations):\n",
        "\n",
        "  # Collect a few steps and save to the replay buffer.\n",
        "  time_step, _ = collect_driver.run(time_step)\n",
        "\n",
        "  # Sample a batch of data from the buffer and update the agent's network.\n",
        "  experience, unused_info = next(iterator)\n",
        "  train_loss = agent.train(experience).loss\n",
        "\n",
        "  step = agent.train_step_counter.numpy()\n",
        "\n",
        "  if step % log_interval == 0:\n",
        "    print('step = {0}: loss = {1}'.format(step, train_loss))\n",
        "\n",
        "  if step % eval_interval == 0:\n",
        "    avg_return = compute_avg_return(eval_env, agent.policy, num_eval_episodes)\n",
        "    print('step = {0}: Average Return = {1}'.format(step, avg_return))\n",
        "    returns.append(avg_return)"
      ],
      "metadata": {
        "colab": {
          "base_uri": "https://localhost:8080/"
        },
        "id": "4FUqsW66S25V",
        "outputId": "e879c0e1-efc9-4179-e1c0-fc9d55a1a8c4"
      },
      "execution_count": 82,
      "outputs": [
        {
          "output_type": "stream",
          "name": "stdout",
          "text": [
            "Beginning of the training\n",
            "step = 200: loss = 0.8887037038803101\n",
            "step = 400: loss = 1.1925010681152344\n",
            "step = 600: loss = 1.1270884275436401\n",
            "step = 800: loss = 0.7557409405708313\n",
            "step = 1000: loss = 0.8863093852996826\n",
            "step = 1000: Average Return = -758.7999877929688\n",
            "step = 1200: loss = 0.7953554391860962\n",
            "step = 1400: loss = 0.7805172801017761\n",
            "step = 1600: loss = 0.7291388511657715\n",
            "step = 1800: loss = 239.0775909423828\n",
            "step = 2000: loss = 0.9776034355163574\n",
            "step = 2000: Average Return = -759.0\n",
            "step = 2200: loss = 0.8822107315063477\n",
            "step = 2400: loss = 0.9160993099212646\n",
            "step = 2600: loss = 1.4934208393096924\n",
            "step = 2800: loss = 0.7139556407928467\n",
            "step = 3000: loss = 0.6415138840675354\n",
            "step = 3000: Average Return = -926.4000244140625\n",
            "step = 3200: loss = 0.8376051187515259\n",
            "step = 3400: loss = 1.5571699142456055\n",
            "step = 3600: loss = 0.7975170612335205\n",
            "step = 3800: loss = 1.1006065607070923\n",
            "step = 4000: loss = 0.9181529879570007\n",
            "step = 4000: Average Return = -1769.800048828125\n",
            "step = 4200: loss = 1.1649250984191895\n",
            "step = 4400: loss = 0.9121420979499817\n",
            "step = 4600: loss = 1.3153626918792725\n",
            "step = 4800: loss = 0.9322020411491394\n",
            "step = 5000: loss = 0.9688862562179565\n",
            "step = 5000: Average Return = -758.4000244140625\n",
            "step = 5200: loss = 0.9039346575737\n",
            "step = 5400: loss = 0.9839047193527222\n",
            "step = 5600: loss = 0.8855574131011963\n",
            "step = 5800: loss = 0.9278199672698975\n",
            "step = 6000: loss = 34.54499816894531\n",
            "step = 6000: Average Return = -759.0\n",
            "step = 6200: loss = 0.9405277371406555\n",
            "step = 6400: loss = 1.2742961645126343\n",
            "step = 6600: loss = 0.8906455039978027\n",
            "step = 6800: loss = 1.1058841943740845\n",
            "step = 7000: loss = 0.9476557970046997\n",
            "step = 7000: Average Return = -759.0\n",
            "step = 7200: loss = 2.35298752784729\n",
            "step = 7400: loss = 0.9928287863731384\n",
            "step = 7600: loss = 0.858815610408783\n",
            "step = 7800: loss = 1.020127534866333\n",
            "step = 8000: loss = 319.36822509765625\n",
            "step = 8000: Average Return = -1769.800048828125\n",
            "step = 8200: loss = 95999.265625\n",
            "step = 8400: loss = 296044.40625\n",
            "step = 8600: loss = 528984.875\n",
            "step = 8800: loss = 123232.8125\n",
            "step = 9000: loss = 176712.453125\n",
            "step = 9000: Average Return = -1770.0\n",
            "step = 9200: loss = 4404076.0\n",
            "step = 9400: loss = 537.01123046875\n",
            "step = 9600: loss = 109.38916015625\n",
            "step = 9800: loss = 37371.80859375\n",
            "step = 10000: loss = 27.09765625\n",
            "step = 10000: Average Return = -1770.0\n"
          ]
        }
      ]
    },
    {
      "cell_type": "markdown",
      "source": [
        "## Création d'un graphe pour visualiser l'entrainement de l'agent"
      ],
      "metadata": {
        "id": "fx5LwEfhTXe_"
      }
    },
    {
      "cell_type": "code",
      "source": [
        "#Create the plot \n",
        "import matplotlib\n",
        "import matplotlib.pyplot as plt\n",
        "iterations = range(0, num_iterations + 1, eval_interval)\n",
        "plt.plot(iterations, returns)\n",
        "plt.ylabel('Average Return')\n",
        "plt.xlabel('Iterations')\n",
        "plt.ylim(top=250)"
      ],
      "metadata": {
        "colab": {
          "base_uri": "https://localhost:8080/",
          "height": 301
        },
        "id": "rVolAUYsTX3c",
        "outputId": "912a175e-9b33-45f6-da6e-1bf1e21176bb"
      },
      "execution_count": 83,
      "outputs": [
        {
          "output_type": "execute_result",
          "data": {
            "text/plain": [
              "(-1820.5799987792968, 250.0)"
            ]
          },
          "metadata": {},
          "execution_count": 83
        },
        {
          "output_type": "display_data",
          "data": {
            "image/png": "[encoded data removed]",
            "text/plain": [
              "<Figure size 432x288 with 1 Axes>"
            ]
          },
          "metadata": {
            "needs_background": "light"
          }
        }
      ]
    },
    {
      "cell_type": "markdown",
      "source": [
        "## Test de l'agent après l'entaienement"
      ],
      "metadata": {
        "id": "m72ncjN3TfKB"
      }
    },
    {
      "cell_type": "code",
      "source": [
        "#Test after training\n",
        "test_py_env = BreakoutEnv(visualize=False) \n",
        "\n",
        "#Convert into tf environment\n",
        "test_env = tf_py_environment.TFPyEnvironment(test_py_env)\n",
        "avg_return = compute_avg_return(test_env, agent.policy, num_eval_episodes)\n",
        "print(\"results\",avg_return)"
      ],
      "metadata": {
        "colab": {
          "base_uri": "https://localhost:8080/"
        },
        "id": "vL-CwpsGTexc",
        "outputId": "c5a19a66-a853-4dca-9a35-b865a93e8818"
      },
      "execution_count": 84,
      "outputs": [
        {
          "output_type": "stream",
          "name": "stdout",
          "text": [
            "results -1769.8\n"
          ]
        }
      ]
    }
  ]
}